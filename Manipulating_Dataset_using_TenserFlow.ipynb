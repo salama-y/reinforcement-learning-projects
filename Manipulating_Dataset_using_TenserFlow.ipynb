{
  "nbformat": 4,
  "nbformat_minor": 0,
  "metadata": {
    "colab": {
      "provenance": []
    },
    "kernelspec": {
      "name": "python3",
      "display_name": "Python 3"
    },
    "language_info": {
      "name": "python"
    }
  },
  "cells": [
    {
      "cell_type": "code",
      "execution_count": 19,
      "metadata": {
        "colab": {
          "base_uri": "https://localhost:8080/"
        },
        "id": "a3NMyNGl3eOr",
        "outputId": "fa811a80-029f-455a-867c-45e424b086ae"
      },
      "outputs": [
        {
          "output_type": "stream",
          "name": "stdout",
          "text": [
            "Before Normalization\n",
            "   Age  Height  Weight  Income  Savings    Debt\n",
            "0   40     200      78   46024   136991  115523\n",
            "1   62     193     143  148660   282685    2757\n",
            "2   70     207     142  104976   178812  132024\n",
            "3   19     153     135   83153   284193  124267\n",
            "4   40     191     133  197929   111890  172794\n",
            "After Normalization\n",
            "        Age    Height    Weight    Income   Savings      Debt\n",
            "0  0.354839  0.857143  0.345455  0.189600  0.273982  0.577615\n",
            "1  0.709677  0.757143  0.936364  0.729789  0.565370  0.013785\n",
            "2  0.838710  0.957143  0.927273  0.499874  0.357624  0.660120\n",
            "3  0.016129  0.185714  0.863636  0.385016  0.568386  0.621335\n",
            "4  0.354839  0.728571  0.845455  0.989100  0.223780  0.863970\n",
            "Number of rows before removing outliers: 1000\n",
            "Number of rows after removing outliers: 986\n",
            "        Age    Height    Weight    Income   Savings      Debt\n",
            "0  0.354839  0.857143  0.345455  0.189600  0.273982  0.577615\n",
            "1  0.709677  0.757143  0.936364  0.729789  0.565370  0.013785\n",
            "2  0.838710  0.957143  0.927273  0.499874  0.357624  0.660120\n",
            "3  0.016129  0.185714  0.863636  0.385016  0.568386  0.621335\n",
            "4  0.354839  0.728571  0.845455  0.989100  0.223780  0.863970\n"
          ]
        }
      ],
      "source": [
        "import numpy as np\n",
        "import pandas as pd\n",
        "from scipy import stats\n",
        "import random\n",
        "\n",
        "# Define ranges for each feature\n",
        "\n",
        "age_range = [18, 80]\n",
        "height_range = [140, 210]\n",
        "weight_range = [40, 150]\n",
        "income_range = [10000, 200000]\n",
        "savings_range = [0, 500000]\n",
        "debt_range = [0, 200000]\n",
        "\n",
        "# Generate random data for each feature\n",
        "\n",
        "age = np.random.randint(age_range[0], age_range[1]+1, size=1000)\n",
        "height = np.random.randint(height_range[0], height_range[1]+1, size=1000)\n",
        "weight = np.random.randint(weight_range[0], weight_range[1]+1, size=1000)\n",
        "income = np.random.randint(income_range[0], income_range[1]+1, size=1000)\n",
        "savings = np.random.randint(savings_range[0], savings_range[1]+1, size=1000)\n",
        "debt = np.random.randint(debt_range[0], debt_range[1]+1, size=1000)\n",
        "\n",
        "# Combine all features into a single dataframe\n",
        "\n",
        "data = pd.DataFrame({'Age': age, 'Height': height, 'Weight': weight,\n",
        "                     'Income': income, 'Savings': savings, 'Debt': debt})\n",
        "\n",
        "# Print the first few rows of the data\n",
        "\n",
        "print(\"Before Normalization\")\n",
        "print(data.head())\n",
        "\n",
        "# Normalize the data using min-max normalization\n",
        "\n",
        "age_norm = (age - age_range[0]) / (age_range[1] - age_range[0])\n",
        "height_norm = (height - height_range[0]) / (height_range[1] - height_range[0])\n",
        "weight_norm = (weight - weight_range[0]) / (weight_range[1] - weight_range[0])\n",
        "income_norm = (income - income_range[0]) / (income_range[1] - income_range[0])\n",
        "savings_norm = (savings - savings_range[0]) / (savings_range[1] - savings_range[0])\n",
        "debt_norm = (debt - debt_range[0]) / (debt_range[1] - debt_range[0])\n",
        "\n",
        "# Combine all normalized features into a single dataframe\n",
        "\n",
        "data = pd.DataFrame({'Age': age_norm, 'Height': height_norm, 'Weight': weight_norm,\n",
        "                     'Income': income_norm, 'Savings': savings_norm, 'Debt': debt_norm})\n",
        "print(\"After Normalization\")\n",
        "print(data.head())\n",
        "\n",
        "# Add some outliers to the data\n",
        "\n",
        "for i in range(20):\n",
        "    # Choose a random feature\n",
        "    feature = random.choice(data.columns)\n",
        "    # Choose a random row\n",
        "    row = random.randint(0, len(data)-1)\n",
        "    # Generate an extreme value that is outside the normal range for that feature\n",
        "    extreme_value = random.uniform(1.5, 3) * data[feature].max()\n",
        "    # Replace the value in the chosen row with the extreme value\n",
        "    data.at[row, feature] = extreme_value\n",
        "    \n",
        "# Remove outliers using the z-score (same code as before)\n",
        "z = np.abs(stats.zscore(data))\n",
        "data_no_outliers = data[(z < 3).all(axis=1)]\n",
        "\n",
        "# Print the number of rows before and after removing outliers\n",
        "print(f\"Number of rows before removing outliers: {len(data)}\")\n",
        "print(f\"Number of rows after removing outliers: {len(data_no_outliers)}\")\n",
        "print(data_no_outliers.head())\n",
        "\n",
        "\n",
        "#After Generating, Normalizing & filtering outliers, our data is ready for processing"
      ]
    },
    {
      "cell_type": "code",
      "source": [
        "from sklearn.model_selection import train_test_split\n",
        "\n",
        "# Split data into features (X) and target variable (y)\n",
        "X = data_no_outliers.drop('Income', axis=1)\n",
        "Y = data_no_outliers['Income']\n",
        "\n",
        "# Split data into training and testing sets (80% training, 20% testing)\n",
        "X_train, X_test, Y_train, Y_test = train_test_split(X, Y, test_size=0.2, random_state=42)\n",
        "\n",
        "print(\"Training Set:\")\n",
        "print(X_train.head())\n",
        "print(Y_train.head())\n",
        "\n",
        "print(\"Testing Set:\")\n",
        "print(X_test.head())\n",
        "print(Y_test.head())\n"
      ],
      "metadata": {
        "colab": {
          "base_uri": "https://localhost:8080/"
        },
        "id": "iPWn3q-gGy73",
        "outputId": "66ce2f61-241f-447a-c29d-3033c5d9b2f0"
      },
      "execution_count": 25,
      "outputs": [
        {
          "output_type": "stream",
          "name": "stdout",
          "text": [
            "Training Set:\n",
            "          Age    Height    Weight   Savings      Debt\n",
            "771  0.241935  0.028571  0.454545  0.898302  0.853845\n",
            "337  0.403226  0.671429  0.945455  0.717228  0.051105\n",
            "901  0.403226  0.485714  0.690909  0.533814  0.677650\n",
            "534  0.161290  0.300000  0.090909  0.802218  0.385085\n",
            "472  0.564516  0.128571  0.909091  0.869202  0.165930\n",
            "771    0.094326\n",
            "337    0.324984\n",
            "901    0.143995\n",
            "534    0.432884\n",
            "472    0.068942\n",
            "Name: Income, dtype: float64\n",
            "Testing Set:\n",
            "          Age    Height    Weight   Savings      Debt\n",
            "621  0.080645  0.157143  0.836364  0.276248  0.648300\n",
            "455  0.870968  0.114286  0.772727  0.636368  0.228195\n",
            "740  1.000000  0.642857  0.509091  0.725618  0.553655\n",
            "440  0.403226  0.257143  0.200000  0.756976  0.313015\n",
            "278  0.822581  0.914286  0.063636  0.678100  0.041565\n",
            "621    0.749279\n",
            "455    0.253795\n",
            "740    0.611411\n",
            "440    0.458689\n",
            "278    0.032405\n",
            "Name: Income, dtype: float64\n"
          ]
        }
      ]
    }
  ]
}